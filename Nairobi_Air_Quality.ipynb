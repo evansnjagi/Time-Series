{
 "cells": [
  {
   "cell_type": "markdown",
   "id": "e12388e0-178a-4407-86f8-0812a25e852e",
   "metadata": {},
   "source": [
    "# Data Preprocessing:\n",
    "# Objectives:\n",
    "1. Explore data\n",
    "   - Connect to the server\n",
    "   - Connect to the database(airquality)\n",
    "   - Connect to nairobi collection\n",
    "   - Count, find, distinct, aggregate documents\n",
    "2. Export data"
   ]
  },
  {
   "cell_type": "code",
   "execution_count": 1,
   "id": "fe299bca-7eef-44dd-97fd-5fa8362f0410",
   "metadata": {},
   "outputs": [],
   "source": [
    "# libraries\n",
    "import sys\n",
    "import pymongo\n",
    "import pprint\n",
    "import pandas as pd\n",
    "import pytz # working with timezone\n",
    "import pathlib\n",
    "\n",
    "from pymongo import MongoClient\n",
    "from pprint import PrettyPrinter\n",
    "from pathlib import Path # working with paths"
   ]
  },
  {
   "cell_type": "code",
   "execution_count": 2,
   "id": "fcfd0de8-f3cb-4fa2-9e9d-e8bcaf45847e",
   "metadata": {},
   "outputs": [
    {
     "name": "stdout",
     "output_type": "stream",
     "text": [
      "Platfrom:  win32\n",
      "Python Version:  3.13.2 (tags/v3.13.2:4f8bb39, Feb  4 2025, 15:23:48) [MSC v.1942 64 bit (AMD64)]\n",
      "\n",
      "Pymongo Version:  4.12.0\n",
      "Pandas Version:  2.2.3\n"
     ]
    }
   ],
   "source": [
    "# library verstions\n",
    "print(\"Platfrom: \", sys.platform)\n",
    "print(\"Python Version: \", sys.version)\n",
    "print()\n",
    "print(\"Pymongo Version: \", pymongo.__version__)\n",
    "print(\"Pandas Version: \", pd.__version__)"
   ]
  },
  {
   "cell_type": "markdown",
   "id": "5b61a4b9-cf24-4d90-9911-67aac6786768",
   "metadata": {},
   "source": [
    "Instantiating `PrettyPrinter`"
   ]
  },
  {
   "cell_type": "code",
   "execution_count": 3,
   "id": "fa63ce72-ff87-4b1f-aecb-eed8496ba8f3",
   "metadata": {},
   "outputs": [],
   "source": [
    "pp = PrettyPrinter(indent=2)"
   ]
  },
  {
   "cell_type": "markdown",
   "id": "34814694-8f95-4571-a65f-e8a93c8d038e",
   "metadata": {},
   "source": [
    "The first step is to connect with `MongoDB` server"
   ]
  },
  {
   "cell_type": "code",
   "execution_count": 4,
   "id": "8da4282a-1168-4799-9dd5-e72fd221b5ef",
   "metadata": {},
   "outputs": [
    {
     "name": "stdout",
     "output_type": "stream",
     "text": [
      "<class 'pymongo.synchronous.mongo_client.MongoClient'>\n",
      "MongoClient(host=['localhost:27017'], document_class=dict, tz_aware=True, connect=True)\n"
     ]
    }
   ],
   "source": [
    "client = MongoClient(host=\"localhost\", port=27017, tz_aware=True)\n",
    "print(type(client))\n",
    "print(client)"
   ]
  },
  {
   "cell_type": "markdown",
   "id": "4a6c5a6a-dbec-4b0d-ba2c-a95db45daee6",
   "metadata": {},
   "source": [
    "Let us see how many databases are available."
   ]
  },
  {
   "cell_type": "code",
   "execution_count": 5,
   "id": "074bdb40-fd48-4779-bb2f-129393132529",
   "metadata": {},
   "outputs": [
    {
     "name": "stdout",
     "output_type": "stream",
     "text": [
      "AirQuality\n",
      "admin\n",
      "config\n",
      "local\n"
     ]
    }
   ],
   "source": [
    "for db in client.list_databases():\n",
    "    print(db[\"name\"])"
   ]
  },
  {
   "cell_type": "code",
   "execution_count": 6,
   "id": "502c14be-69ea-419f-9303-01338d0561db",
   "metadata": {},
   "outputs": [
    {
     "data": {
      "text/plain": [
       "['AirQuality', 'admin', 'config', 'local']"
      ]
     },
     "execution_count": 6,
     "metadata": {},
     "output_type": "execute_result"
    }
   ],
   "source": [
    "# Also\n",
    "client.list_database_names()"
   ]
  },
  {
   "cell_type": "markdown",
   "id": "b12eaeaa-93a3-4f5a-8b3e-5a8b31f0a95d",
   "metadata": {},
   "source": [
    "We will use `AirQuality` database. Let us connect to that database"
   ]
  },
  {
   "cell_type": "code",
   "execution_count": 7,
   "id": "130a766c-6b5e-48a1-8c2a-df1f835c69d4",
   "metadata": {},
   "outputs": [
    {
     "name": "stdout",
     "output_type": "stream",
     "text": [
      "<class 'pymongo.synchronous.database.Database'>\n",
      "Database(MongoClient(host=['localhost:27017'], document_class=dict, tz_aware=True, connect=True), 'AirQuality')\n"
     ]
    }
   ],
   "source": [
    "AirQuality = client[\"AirQuality\"]\n",
    "print(type(AirQuality))\n",
    "print(AirQuality)"
   ]
  },
  {
   "cell_type": "markdown",
   "id": "87df083b-608c-441c-b570-bb6d0f0baff5",
   "metadata": {},
   "source": [
    "Let us now see different collections available in `AirQuality` database."
   ]
  },
  {
   "cell_type": "code",
   "execution_count": 8,
   "id": "65c9a4ac-5450-4f56-986b-afa7963adab2",
   "metadata": {},
   "outputs": [
    {
     "name": "stdout",
     "output_type": "stream",
     "text": [
      "Juja\n",
      "Nairobi\n",
      "Kisumu\n",
      "Nakuru\n",
      "Mombasa\n"
     ]
    }
   ],
   "source": [
    "for collection in AirQuality.list_collections():\n",
    "    print(collection[\"name\"])"
   ]
  },
  {
   "cell_type": "code",
   "execution_count": 9,
   "id": "96b57049-9d6a-4e17-9d70-b99f396d0302",
   "metadata": {},
   "outputs": [
    {
     "data": {
      "text/plain": [
       "['Juja', 'Nairobi', 'Kisumu', 'Nakuru', 'Mombasa']"
      ]
     },
     "execution_count": 9,
     "metadata": {},
     "output_type": "execute_result"
    }
   ],
   "source": [
    "AirQuality.list_collection_names()"
   ]
  },
  {
   "cell_type": "markdown",
   "id": "a7a818d5-87c6-45a3-a2a0-49c0718f4f67",
   "metadata": {},
   "source": [
    "In our case we are interested in working with `Nairobi` AirQuality data.So therefore, we will connect to `Nairobi` collection in *AirQuality* database"
   ]
  },
  {
   "cell_type": "code",
   "execution_count": 10,
   "id": "9aa1d998-bb30-42f8-b16c-81dbbbfa21a2",
   "metadata": {},
   "outputs": [
    {
     "name": "stdout",
     "output_type": "stream",
     "text": [
      "<class 'pymongo.synchronous.collection.Collection'>\n",
      "Collection(Database(MongoClient(host=['localhost:27017'], document_class=dict, tz_aware=True, connect=True), 'AirQuality'), 'Nairobi')\n"
     ]
    }
   ],
   "source": [
    "Nairobi = AirQuality[\"Nairobi\"]\n",
    "print(type(Nairobi))\n",
    "print(Nairobi)"
   ]
  },
  {
   "cell_type": "markdown",
   "id": "f452f7c5-72ee-48b5-b56a-f575cace53b5",
   "metadata": {},
   "source": [
    "Now let us see how many `documents` are available in Nairobi collection"
   ]
  },
  {
   "cell_type": "code",
   "execution_count": 11,
   "id": "68805def-467f-4bcd-8d55-01bdb97afea9",
   "metadata": {},
   "outputs": [
    {
     "name": "stdout",
     "output_type": "stream",
     "text": [
      "Total documents: 446968.\n"
     ]
    }
   ],
   "source": [
    "documents_count = Nairobi.count_documents({})\n",
    "print(f\"Total documents: {documents_count}.\")"
   ]
  },
  {
   "cell_type": "markdown",
   "id": "f99207e2-9db6-4103-ba11-7cbf91aaadab",
   "metadata": {},
   "source": [
    "Let us `find` the first document in Nairobi collection"
   ]
  },
  {
   "cell_type": "code",
   "execution_count": 12,
   "id": "a5a154e6-9a69-4725-9e79-bc9efb0ebbe3",
   "metadata": {},
   "outputs": [
    {
     "data": {
      "text/plain": [
       "{'_id': ObjectId('6806979f55fcce47f5780944'),\n",
       " 'sensor_id': 4899,\n",
       " 'sensor_type': 'DHT22',\n",
       " 'location': 3966,\n",
       " 'lat': -1.311,\n",
       " 'lon': 36.817,\n",
       " 'timestamp': datetime.datetime(2025, 1, 1, 0, 2, 30, 504000, tzinfo=FixedOffset(datetime.timedelta(0), 'UTC')),\n",
       " 'value_type': 'humidity',\n",
       " 'value': 74.5}"
      ]
     },
     "execution_count": 12,
     "metadata": {},
     "output_type": "execute_result"
    }
   ],
   "source": [
    "Nairobi.find_one({})"
   ]
  },
  {
   "cell_type": "markdown",
   "id": "0de2051f-c4ea-4a9b-b70b-d80679ac8c8a",
   "metadata": {},
   "source": [
    "Distinct `value_type`"
   ]
  },
  {
   "cell_type": "code",
   "execution_count": 13,
   "id": "a7086611-920d-465a-81dd-726874a97b47",
   "metadata": {},
   "outputs": [
    {
     "name": "stdout",
     "output_type": "stream",
     "text": [
      "<class 'list'>\n",
      "<class 'list'>\n",
      "Distinct value type: ['P0', 'P1', 'P2', 'humidity', 'temperature']\n",
      "Distinct location: [3573, 3966, 3967]\n"
     ]
    }
   ],
   "source": [
    "distinct_measure = Nairobi.distinct(\"value_type\")\n",
    "distinct_location = Nairobi.distinct(\"location\")\n",
    "print(type(distinct_measure))\n",
    "print(type(distinct_location))\n",
    "print(f\"Distinct value type: {distinct_measure}\")\n",
    "print(f\"Distinct location: {distinct_location}\")"
   ]
  },
  {
   "cell_type": "markdown",
   "id": "c337043e-a17f-479f-bbd0-0d713e730174",
   "metadata": {},
   "source": [
    "We are insterested in `P2` which is p2.5 for particles"
   ]
  },
  {
   "cell_type": "code",
   "execution_count": 14,
   "id": "504ee901-9fe0-4018-8312-5f1d6186e0b4",
   "metadata": {},
   "outputs": [
    {
     "name": "stdout",
     "output_type": "stream",
     "text": [
      "[ {'Counts': 40030, '_id': 3966},\n",
      "  {'Counts': 399589, '_id': 3573},\n",
      "  {'Counts': 7349, '_id': 3967}]\n"
     ]
    }
   ],
   "source": [
    "# aggregation\n",
    "result = Nairobi.aggregate(\n",
    "    [\n",
    "        {\n",
    "            \"$group\":{\n",
    "                \"_id\": \"$location\",\n",
    "                \"Counts\": {\"$sum\": 1}\n",
    "            }\n",
    "        }\n",
    "    ]\n",
    ")\n",
    "pp.pprint(list(result))"
   ]
  },
  {
   "cell_type": "markdown",
   "id": "6a5e1230-6fb3-4118-b7d9-ed0ac66f5652",
   "metadata": {},
   "source": [
    "We will choose site(location) `3573` since it has more documents compared to the rest"
   ]
  },
  {
   "cell_type": "code",
   "execution_count": 15,
   "id": "59d4d881-4c22-4196-870b-46ad66c3bc19",
   "metadata": {},
   "outputs": [
    {
     "name": "stdout",
     "output_type": "stream",
     "text": [
      "[ {'_id': 'temperature', 'counts': 79925},\n",
      "  {'_id': 'P1', 'counts': 79913},\n",
      "  {'_id': 'P0', 'counts': 79913},\n",
      "  {'_id': 'humidity', 'counts': 79925},\n",
      "  {'_id': 'P2', 'counts': 79913}]\n"
     ]
    }
   ],
   "source": [
    "# match for location 3573 \n",
    "result = Nairobi.aggregate(\n",
    "    [\n",
    "        {\"$match\": {\"location\": 3573}},\n",
    "        {\"$group\": {\n",
    "            \"_id\": \"$value_type\",\n",
    "            \"counts\": {\n",
    "                \"$sum\":1\n",
    "            }\n",
    "        }}\n",
    "    ]\n",
    ")\n",
    "pp.pprint(list(result))"
   ]
  },
  {
   "cell_type": "markdown",
   "id": "0b82767b-01bb-495e-9ae7-e349483dd6d2",
   "metadata": {},
   "source": [
    "Let us find `P2` and location `3573`"
   ]
  },
  {
   "cell_type": "code",
   "execution_count": 16,
   "id": "4f0fd654-de93-40b5-aa68-13e7d62106c1",
   "metadata": {},
   "outputs": [
    {
     "name": "stdout",
     "output_type": "stream",
     "text": [
      "{ 'timestamp': datetime.datetime(2025, 1, 1, 10, 56, 30, 946000, tzinfo=FixedOffset(datetime.timedelta(0), 'UTC')),\n",
      "  'value': 8.5}\n"
     ]
    }
   ],
   "source": [
    "result = Nairobi.find(\n",
    "    {\"location\": 3573, \"value_type\": \"P2\"},\n",
    "    projection = {\"timestamp\":1, \"value\":1, \"_id\":0}\n",
    ")\n",
    "pp.pprint(next(iter(result)))"
   ]
  },
  {
   "cell_type": "markdown",
   "id": "d440fd3f-a77c-4b2d-8b27-ac9a5d5657db",
   "metadata": {},
   "source": [
    "Dataframe. `timestamp` and `value_type`"
   ]
  },
  {
   "cell_type": "code",
   "execution_count": 17,
   "id": "0b5333bb-14e9-4ab4-ab25-2b6447105f5c",
   "metadata": {},
   "outputs": [],
   "source": [
    "# wrangel function\n",
    "def wrangle(collection):\n",
    "    # find pipeline\n",
    "    result = collection.find(\n",
    "        {\"location\": 3573, \"value_type\": \"P2\"},\n",
    "        projection = {\"timestamp\":1, \"value\":1, \"_id\":0}\n",
    "    )\n",
    "    # data into dataframe\n",
    "    df = pd.DataFrame(result).set_index(\"timestamp\")\n",
    "    # localize timezone from `UTC` to `Africa/Nairobi`\n",
    "    df.index = df.index.tz_convert(\"Africa/Nairobi\")\n",
    "    # return\n",
    "    return df"
   ]
  },
  {
   "cell_type": "code",
   "execution_count": 18,
   "id": "376ee4ef-c938-4ad6-9593-3e2e71b0a982",
   "metadata": {},
   "outputs": [
    {
     "name": "stdout",
     "output_type": "stream",
     "text": [
      "<class 'pandas.core.frame.DataFrame'>\n",
      "(79913, 1)\n",
      "<class 'pandas.core.frame.DataFrame'>\n",
      "DatetimeIndex: 79913 entries, 2025-01-01 13:56:30.946000+03:00 to 2025-02-01 02:55:14.252000+03:00\n",
      "Data columns (total 1 columns):\n",
      " #   Column  Non-Null Count  Dtype  \n",
      "---  ------  --------------  -----  \n",
      " 0   value   79913 non-null  float64\n",
      "dtypes: float64(1)\n",
      "memory usage: 1.2 MB\n",
      "None\n"
     ]
    }
   ],
   "source": [
    "df = wrangle(Nairobi)\n",
    "print(type(df))\n",
    "print(df.shape)\n",
    "print(df.info())"
   ]
  },
  {
   "cell_type": "code",
   "execution_count": 19,
   "id": "d124cf2b-8270-4d7d-aa31-571e00699a4c",
   "metadata": {
    "scrolled": true
   },
   "outputs": [
    {
     "data": {
      "text/html": [
       "<div>\n",
       "<style scoped>\n",
       "    .dataframe tbody tr th:only-of-type {\n",
       "        vertical-align: middle;\n",
       "    }\n",
       "\n",
       "    .dataframe tbody tr th {\n",
       "        vertical-align: top;\n",
       "    }\n",
       "\n",
       "    .dataframe thead th {\n",
       "        text-align: right;\n",
       "    }\n",
       "</style>\n",
       "<table border=\"1\" class=\"dataframe\">\n",
       "  <thead>\n",
       "    <tr style=\"text-align: right;\">\n",
       "      <th></th>\n",
       "      <th>value</th>\n",
       "    </tr>\n",
       "    <tr>\n",
       "      <th>timestamp</th>\n",
       "      <th></th>\n",
       "    </tr>\n",
       "  </thead>\n",
       "  <tbody>\n",
       "    <tr>\n",
       "      <th>2025-01-01 13:56:30.946000+03:00</th>\n",
       "      <td>8.5</td>\n",
       "    </tr>\n",
       "    <tr>\n",
       "      <th>2025-01-01 13:57:02.958000+03:00</th>\n",
       "      <td>12.0</td>\n",
       "    </tr>\n",
       "    <tr>\n",
       "      <th>2025-01-01 13:57:34.922000+03:00</th>\n",
       "      <td>11.0</td>\n",
       "    </tr>\n",
       "    <tr>\n",
       "      <th>2025-01-01 13:58:06.946000+03:00</th>\n",
       "      <td>10.6</td>\n",
       "    </tr>\n",
       "    <tr>\n",
       "      <th>2025-01-01 13:58:39.800000+03:00</th>\n",
       "      <td>13.4</td>\n",
       "    </tr>\n",
       "  </tbody>\n",
       "</table>\n",
       "</div>"
      ],
      "text/plain": [
       "                                  value\n",
       "timestamp                              \n",
       "2025-01-01 13:56:30.946000+03:00    8.5\n",
       "2025-01-01 13:57:02.958000+03:00   12.0\n",
       "2025-01-01 13:57:34.922000+03:00   11.0\n",
       "2025-01-01 13:58:06.946000+03:00   10.6\n",
       "2025-01-01 13:58:39.800000+03:00   13.4"
      ]
     },
     "execution_count": 19,
     "metadata": {},
     "output_type": "execute_result"
    }
   ],
   "source": [
    "df.head()"
   ]
  },
  {
   "cell_type": "markdown",
   "id": "fef3ffa7-858b-4a9b-837f-c67816861d4c",
   "metadata": {},
   "source": [
    "Creating a `filepath` object"
   ]
  },
  {
   "cell_type": "code",
   "execution_count": 20,
   "id": "b87305d0-85fd-4fad-bc04-c6d432ed10c0",
   "metadata": {},
   "outputs": [
    {
     "name": "stdout",
     "output_type": "stream",
     "text": [
      "<class 'pathlib._local.WindowsPath'>\n",
      "C:\\Users\\MY PC\\Desktop\\Projects\\Time-series\\Air-Quality-Nairobi\\wrangled_data\n"
     ]
    }
   ],
   "source": [
    "file_path = Path.cwd() / \"wrangled_data\"\n",
    "print(type(file_path))\n",
    "print(file_path)"
   ]
  },
  {
   "cell_type": "markdown",
   "id": "84d1d629-6eb4-409a-b91c-fca60e533cbb",
   "metadata": {},
   "source": [
    "Creating the path `directory`"
   ]
  },
  {
   "cell_type": "code",
   "execution_count": 21,
   "id": "c9199ed4-66e7-4908-8504-f7f70d2c111c",
   "metadata": {},
   "outputs": [],
   "source": [
    "file_path.mkdir(exist_ok=True)"
   ]
  },
  {
   "cell_type": "code",
   "execution_count": 22,
   "id": "35fb5b38-1774-4d4a-8f96-10f48c0e4813",
   "metadata": {},
   "outputs": [],
   "source": [
    "file_location = str(file_path / \"cleaned_csv\")"
   ]
  },
  {
   "cell_type": "code",
   "execution_count": 23,
   "id": "66439c1e-21c6-4907-98c4-6d5096cd1c3c",
   "metadata": {},
   "outputs": [],
   "source": [
    "df.to_csv(file_location, index=True)"
   ]
  },
  {
   "cell_type": "markdown",
   "id": "1d8e19bf-f952-43e7-b683-6c2f5606d9d8",
   "metadata": {},
   "source": [
    "Reading the csv file"
   ]
  },
  {
   "cell_type": "code",
   "execution_count": 24,
   "id": "0efe18d3-dc98-46e5-9c36-7bd0fb3ffe7b",
   "metadata": {},
   "outputs": [
    {
     "data": {
      "text/plain": [
       "(79913, 1)"
      ]
     },
     "execution_count": 24,
     "metadata": {},
     "output_type": "execute_result"
    }
   ],
   "source": [
    "df = pd.read_csv(file_location, index_col=0, parse_dates=True)\n",
    "\n",
    "df.shape"
   ]
  },
  {
   "cell_type": "code",
   "execution_count": 25,
   "id": "7d02e53e-701d-4c19-b2af-382e2c0d726e",
   "metadata": {},
   "outputs": [
    {
     "data": {
      "text/html": [
       "<div>\n",
       "<style scoped>\n",
       "    .dataframe tbody tr th:only-of-type {\n",
       "        vertical-align: middle;\n",
       "    }\n",
       "\n",
       "    .dataframe tbody tr th {\n",
       "        vertical-align: top;\n",
       "    }\n",
       "\n",
       "    .dataframe thead th {\n",
       "        text-align: right;\n",
       "    }\n",
       "</style>\n",
       "<table border=\"1\" class=\"dataframe\">\n",
       "  <thead>\n",
       "    <tr style=\"text-align: right;\">\n",
       "      <th></th>\n",
       "      <th>value</th>\n",
       "    </tr>\n",
       "    <tr>\n",
       "      <th>timestamp</th>\n",
       "      <th></th>\n",
       "    </tr>\n",
       "  </thead>\n",
       "  <tbody>\n",
       "    <tr>\n",
       "      <th>2025-01-01 13:56:30.946000+03:00</th>\n",
       "      <td>8.5</td>\n",
       "    </tr>\n",
       "    <tr>\n",
       "      <th>2025-01-01 13:57:02.958000+03:00</th>\n",
       "      <td>12.0</td>\n",
       "    </tr>\n",
       "    <tr>\n",
       "      <th>2025-01-01 13:57:34.922000+03:00</th>\n",
       "      <td>11.0</td>\n",
       "    </tr>\n",
       "    <tr>\n",
       "      <th>2025-01-01 13:58:06.946000+03:00</th>\n",
       "      <td>10.6</td>\n",
       "    </tr>\n",
       "    <tr>\n",
       "      <th>2025-01-01 13:58:39.800000+03:00</th>\n",
       "      <td>13.4</td>\n",
       "    </tr>\n",
       "  </tbody>\n",
       "</table>\n",
       "</div>"
      ],
      "text/plain": [
       "                                  value\n",
       "timestamp                              \n",
       "2025-01-01 13:56:30.946000+03:00    8.5\n",
       "2025-01-01 13:57:02.958000+03:00   12.0\n",
       "2025-01-01 13:57:34.922000+03:00   11.0\n",
       "2025-01-01 13:58:06.946000+03:00   10.6\n",
       "2025-01-01 13:58:39.800000+03:00   13.4"
      ]
     },
     "execution_count": 25,
     "metadata": {},
     "output_type": "execute_result"
    }
   ],
   "source": [
    "df.head()"
   ]
  },
  {
   "cell_type": "markdown",
   "id": "90bbc85f-a3c3-40ef-9cef-977bca09ffb8",
   "metadata": {},
   "source": [
    "--- The End --- "
   ]
  }
 ],
 "metadata": {
  "kernelspec": {
   "display_name": "Python 3 (ipykernel)",
   "language": "python",
   "name": "python3"
  },
  "language_info": {
   "codemirror_mode": {
    "name": "ipython",
    "version": 3
   },
   "file_extension": ".py",
   "mimetype": "text/x-python",
   "name": "python",
   "nbconvert_exporter": "python",
   "pygments_lexer": "ipython3",
   "version": "3.13.2"
  },
  "widgets": {
   "application/vnd.jupyter.widget-state+json": {
    "state": {},
    "version_major": 2,
    "version_minor": 0
   }
  }
 },
 "nbformat": 4,
 "nbformat_minor": 5
}
